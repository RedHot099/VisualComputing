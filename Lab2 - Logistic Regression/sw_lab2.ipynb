{
 "cells": [
  {
   "cell_type": "markdown",
   "id": "96324ac4",
   "metadata": {},
   "source": [
    "# Skład zespołu\n",
    " - Jakub Eichner \n",
    " - Mateusz Ogrodowczyk\n",
    " - Julian Zabłoński"
   ]
  },
  {
   "cell_type": "markdown",
   "id": "a6e875e3",
   "metadata": {},
   "source": [
    "#### Zadanie 1:\n",
    "\n",
    "Utwórz zbiór danych reprezentujących dwupikselowe obrazy z jednobajtowym modelem koloru. Obrazy należą do dwóch klas: pierwsza z nich zawiera obrazy, których wartość $p_2$ drugiego piksela jest mniejsza od $a*p_1+b$, gdzie $p_1$ reprezentuje wartość pierwszego  piksela. W drugiej klasie wartość drugiego piksela jest większa od $a*p_1+b$.  <a href=\"https://fraktal.faculty.wmi.amu.edu.pl/symulowanie_wizualne/data_lab2.png\">Rysunek</a> pokazuje przykład takich danych dla $a=1,\\,b=0$.\n",
    "Zapisz te dane jako zbiór obrazów należących do dwóch klas (nazwy katalogów oznaczają klasy). Na tak skonstruowanych danych przetestuj iteracje algorytmu regresji logistycznej w każdym kroku wizualizując hiperpłaszczyznę separującą. Przykładowy wynik pokazany jest na kolejnym <a href=\"https://fraktal.faculty.wmi.amu.edu.pl/symulowanie_wizualne/result_lab2.png\">rysunku</a>.\n",
    "\n"
   ]
  },
  {
   "cell_type": "code",
   "execution_count": 97,
   "id": "ded997fa-9eb5-4f47-b99d-6583e89888e9",
   "metadata": {},
   "outputs": [],
   "source": [
    "import numpy as np\n",
    "import matplotlib.pyplot as plt\n",
    "from PIL import Image\n",
    "import os "
   ]
  },
  {
   "cell_type": "code",
   "execution_count": 98,
   "id": "50ba3ccd",
   "metadata": {
    "deletable": false,
    "nbgrader": {
     "cell_type": "code",
     "checksum": "456d12a39773d395b526fa2e7ade1a8b",
     "grade": true,
     "grade_id": "cell-adbd89c53ae12939",
     "locked": false,
     "points": 4,
     "schema_version": 3,
     "solution": true,
     "task": false
    }
   },
   "outputs": [
    {
     "name": "stdout",
     "output_type": "stream",
     "text": [
      "Class 1 → 1\tClass 2 → 0\n",
      "Class 1 → 2\tClass 2 → 0\n",
      "Class 1 → 3\tClass 2 → 0\n",
      "Class 1 → 3\tClass 2 → 1\n",
      "Class 1 → 3\tClass 2 → 2\n",
      "Class 1 → 4\tClass 2 → 2\n",
      "Class 1 → 4\tClass 2 → 3\n",
      "Class 1 → 4\tClass 2 → 4\n",
      "Class 1 → 5\tClass 2 → 4\n",
      "Class 1 → 6\tClass 2 → 4\n",
      "Class 1 → 7\tClass 2 → 4\n",
      "Class 1 → 7\tClass 2 → 5\n",
      "Class 1 → 8\tClass 2 → 5\n",
      "Class 1 → 8\tClass 2 → 6\n",
      "Class 1 → 9\tClass 2 → 6\n",
      "Class 1 → 10\tClass 2 → 6\n",
      "Class 1 → 11\tClass 2 → 6\n",
      "Class 1 → 12\tClass 2 → 6\n",
      "Class 1 → 12\tClass 2 → 7\n",
      "Class 1 → 12\tClass 2 → 8\n",
      "Class 1 → 12\tClass 2 → 9\n",
      "Class 1 → 13\tClass 2 → 9\n",
      "Class 1 → 14\tClass 2 → 9\n",
      "Class 1 → 14\tClass 2 → 10\n",
      "Class 1 → 15\tClass 2 → 10\n",
      "Class 1 → 16\tClass 2 → 10\n",
      "Class 1 → 16\tClass 2 → 11\n",
      "Class 1 → 16\tClass 2 → 12\n",
      "Class 1 → 16\tClass 2 → 13\n",
      "Class 1 → 17\tClass 2 → 13\n",
      "Class 1 → 18\tClass 2 → 13\n",
      "Class 1 → 18\tClass 2 → 14\n",
      "Class 1 → 18\tClass 2 → 15\n",
      "Class 1 → 18\tClass 2 → 16\n",
      "Class 1 → 18\tClass 2 → 17\n",
      "Class 1 → 19\tClass 2 → 17\n",
      "Class 1 → 19\tClass 2 → 18\n",
      "Class 1 → 19\tClass 2 → 19\n",
      "Class 1 → 19\tClass 2 → 20\n",
      "Class 1 → 20\tClass 2 → 20\n",
      "Class 1 → 20\tClass 2 → 21\n",
      "Class 1 → 20\tClass 2 → 22\n",
      "Class 1 → 20\tClass 2 → 23\n",
      "Class 1 → 21\tClass 2 → 23\n",
      "Class 1 → 21\tClass 2 → 24\n",
      "Class 1 → 21\tClass 2 → 25\n",
      "Class 1 → 22\tClass 2 → 25\n",
      "Class 1 → 23\tClass 2 → 25\n",
      "Class 1 → 23\tClass 2 → 26\n",
      "Class 1 → 24\tClass 2 → 26\n",
      "Class 1 → 24\tClass 2 → 27\n",
      "Class 1 → 25\tClass 2 → 27\n",
      "Class 1 → 26\tClass 2 → 27\n",
      "Class 1 → 27\tClass 2 → 27\n",
      "Class 1 → 27\tClass 2 → 28\n",
      "Class 1 → 27\tClass 2 → 29\n",
      "Class 1 → 27\tClass 2 → 30\n",
      "Class 1 → 28\tClass 2 → 30\n",
      "Class 1 → 29\tClass 2 → 30\n",
      "Class 1 → 29\tClass 2 → 31\n",
      "Class 1 → 30\tClass 2 → 31\n",
      "Class 1 → 30\tClass 2 → 32\n",
      "Class 1 → 30\tClass 2 → 33\n",
      "Class 1 → 31\tClass 2 → 33\n",
      "Class 1 → 31\tClass 2 → 34\n",
      "Class 1 → 31\tClass 2 → 35\n",
      "Class 1 → 31\tClass 2 → 36\n",
      "Class 1 → 32\tClass 2 → 36\n",
      "Class 1 → 33\tClass 2 → 36\n",
      "Class 1 → 34\tClass 2 → 36\n",
      "Class 1 → 34\tClass 2 → 37\n",
      "Class 1 → 34\tClass 2 → 38\n",
      "Class 1 → 34\tClass 2 → 39\n",
      "Class 1 → 35\tClass 2 → 39\n",
      "Class 1 → 35\tClass 2 → 40\n",
      "Class 1 → 35\tClass 2 → 41\n",
      "Class 1 → 35\tClass 2 → 42\n",
      "Class 1 → 36\tClass 2 → 42\n",
      "Class 1 → 37\tClass 2 → 42\n",
      "Class 1 → 37\tClass 2 → 43\n",
      "Class 1 → 37\tClass 2 → 44\n",
      "Class 1 → 37\tClass 2 → 45\n",
      "Class 1 → 37\tClass 2 → 46\n",
      "Class 1 → 37\tClass 2 → 47\n",
      "Class 1 → 38\tClass 2 → 47\n",
      "Class 1 → 38\tClass 2 → 48\n",
      "Class 1 → 38\tClass 2 → 49\n",
      "Class 1 → 38\tClass 2 → 50\n",
      "Class 1 → 38\tClass 2 → 51\n",
      "Class 1 → 38\tClass 2 → 52\n",
      "Class 1 → 38\tClass 2 → 53\n",
      "Class 1 → 39\tClass 2 → 53\n",
      "Class 1 → 39\tClass 2 → 54\n",
      "Class 1 → 40\tClass 2 → 54\n",
      "Class 1 → 40\tClass 2 → 55\n",
      "Class 1 → 40\tClass 2 → 56\n",
      "Class 1 → 41\tClass 2 → 56\n",
      "Class 1 → 41\tClass 2 → 57\n",
      "Class 1 → 41\tClass 2 → 58\n",
      "Class 1 → 42\tClass 2 → 58\n"
     ]
    },
    {
     "data": {
      "image/png": "[encoded data removed]",
      "text/plain": [
       "<Figure size 432x288 with 1 Axes>"
      ]
     },
     "metadata": {
      "needs_background": "light"
     },
     "output_type": "display_data"
    }
   ],
   "source": [
    "#Kod rozwiązania zadania 1\n",
    "AMMOUNT = 100\n",
    "A = 1\n",
    "B = 0\n",
    "def generate_data(\n",
    "    amount: int = 100, \n",
    "    seed_val: int = 42\n",
    ") -> np.array:\n",
    "    np.random.seed(seed_val)\n",
    "    return np.random.random((amount, 2))\n",
    "\n",
    "def verify_class(data: np.array, a: int = A, b: int = B) -> bool:\n",
    "    return data[1] > a*data[0] + b\n",
    "\n",
    "def create_plot_img(data: np.array, c1: int, c2: int) -> tuple:\n",
    "    img_class = verify_class(data) + 1\n",
    "    c1 += img_class % 2\n",
    "    c2 += (img_class+1) % 2\n",
    "    plot = plt.imshow(\n",
    "        ((data[0], data[0]), (data[1], data[1])), \n",
    "        cmap='Greens', \n",
    "        interpolation='nearest', \n",
    "        origin='lower',\n",
    "        vmin=0.,\n",
    "        vmax=1.\n",
    "    )    \n",
    "    # plot.set_cmap('Greens')\n",
    "    plt.axis('off')\n",
    "    plt.savefig(f'./{img_class}/{c1 if img_class == 1 else c2}.png', bbox_inches=0)\n",
    "    return c1, c2, img_class-1\n",
    "    \n",
    "\n",
    "# Create directories for the images\n",
    "if not os.path.exists('./1'):\n",
    "    os.mkdir('./1')\n",
    "if not os.path.exists('./2'):\n",
    "    os.mkdir('./2')\n",
    "    \n",
    "# Generate the data\n",
    "data = generate_data(AMMOUNT, 89)\n",
    "# print(data[:min(len(data), 10)])\\\n",
    "y = []\n",
    "counter1, counter2 = 0, 0\n",
    "for i, pair in enumerate(data):\n",
    "    counter1, counter2, img_class = create_plot_img(pair, counter1, counter2)\n",
    "    y.append(img_class)\n",
    "    print(f\"Class 1 → {counter1}\\tClass 2 → {counter2}\")\n"
   ]
  },
  {
   "cell_type": "code",
   "execution_count": 99,
   "id": "db46521a",
   "metadata": {
    "deletable": false,
    "nbgrader": {
     "cell_type": "code",
     "checksum": "6b702a10e2d5b97abe94f2981d4f7565",
     "grade": true,
     "grade_id": "cell-e0f3b2bce1b885e5",
     "locked": false,
     "points": 1,
     "schema_version": 3,
     "solution": true,
     "task": false
    }
   },
   "outputs": [],
   "source": [
    "#Test rozwiązania  zadania 1\n",
    " \n",
    "    # YOUR CODE HERE\n",
    "    \n",
    "    #raise NotImplementedError()"
   ]
  },
  {
   "cell_type": "code",
   "execution_count": 100,
   "id": "5c210858",
   "metadata": {},
   "outputs": [
    {
     "data": {
      "image/png": "[encoded data removed]",
      "text/plain": [
       "<Figure size 432x288 with 1 Axes>"
      ]
     },
     "metadata": {
      "needs_background": "light"
     },
     "output_type": "display_data"
    }
   ],
   "source": [
    "colormap = np.array(['r', 'b'])\n",
    "\n",
    "x_line = np.linspace(0,1,100)\n",
    "y_line = A*x_line + B\n",
    "\n",
    "def plot_scatter(X, y, colormap, path):\n",
    "  plt.grid()\n",
    "  plt.xlabel('$x_1$', size=20)\n",
    "  plt.ylabel('$x_2$', size=20)\n",
    "  plt.title('Input 2D points', size=18)\n",
    "  plt.scatter(x_line, y_line, c='orange')\n",
    "  plt.scatter(X[:,0], X[:, 1], s=50, c=colormap[y])\n",
    "  plt.savefig(path)\n",
    "\n",
    "plot_scatter(data, y, colormap, 'image.png')"
   ]
  },
  {
   "cell_type": "code",
   "execution_count": 101,
   "id": "e033b382",
   "metadata": {},
   "outputs": [
    {
     "name": "stdout",
     "output_type": "stream",
     "text": [
      "5.402552018717133e-05\n"
     ]
    }
   ],
   "source": [
    "sigmoid = lambda x: 1/(1+np.exp(-x))\n",
    "\n",
    "w = np.array([6.33, -4.22])   # some magical w\n",
    "b = 1.99                      # some magical b\n",
    "x = np.array([-1.2, 1.0])     # point we want to classify\n",
    "\n",
    "print(sigmoid(w.dot(x) + b))"
   ]
  },
  {
   "cell_type": "code",
   "execution_count": 102,
   "id": "a2b4b3e2",
   "metadata": {},
   "outputs": [
    {
     "data": {
      "text/plain": [
       "[<matplotlib.lines.Line2D at 0x2bac0d3ebc0>]"
      ]
     },
     "execution_count": 102,
     "metadata": {},
     "output_type": "execute_result"
    },
    {
     "data": {
      "image/png": "[encoded data removed]",
      "text/plain": [
       "<Figure size 432x288 with 1 Axes>"
      ]
     },
     "metadata": {
      "needs_background": "light"
     },
     "output_type": "display_data"
    }
   ],
   "source": [
    "LEARNING_RATE = 8.0\n",
    "NUM_EPOCHS = 200\n",
    "\n",
    "def get_loss(y, a):\n",
    "  return -1 * (y * np.log(a) +\n",
    "               (1-y) * np.log(1-a))\n",
    "\n",
    "def get_loss_numerically_stable(y, z):\n",
    "   return -1 * (y * -1 * np.log(1 + np.exp(-z)) +\n",
    "                (1-y) * (-z - np.log(1 + np.exp(-z))))\n",
    "\n",
    "w_cache = []\n",
    "b_cache = []\n",
    "l_cache = []\n",
    "\n",
    "# some nice initial value, so that the plot looks nice.\n",
    "w = np.array([-4.0, 29.0])\n",
    "b = 0.0\n",
    "\n",
    "for i in range(NUM_EPOCHS):\n",
    "  dw = np.zeros(w.shape)\n",
    "  db = 0.0\n",
    "  loss = 0.0\n",
    "\n",
    "  for j in range(data.shape[0]):\n",
    "    x_j = data[j,:]\n",
    "    y_j = y[j]\n",
    "\n",
    "    z_j = w.dot(x_j) + b\n",
    "    a_j = sigmoid(z_j)\n",
    "\n",
    "    loss_j = get_loss_numerically_stable(y_j, z_j)\n",
    "\n",
    "    dw_j = x_j * (a_j-y_j)\n",
    "    db_j = a_j - y_j\n",
    "\n",
    "    dw += dw_j\n",
    "    db += db_j\n",
    "    loss += loss_j\n",
    "\n",
    "  # because we have AMMOUNT samples\n",
    "  dw = (1.0/AMMOUNT) * dw\n",
    "  db = (1.0/AMMOUNT) * db\n",
    "  loss = (1.0/AMMOUNT) * loss\n",
    "\n",
    "  w -= LEARNING_RATE * dw\n",
    "  b -= LEARNING_RATE * db\n",
    "\n",
    "  w_cache.append(w.copy())\n",
    "  b_cache.append(b)\n",
    "  l_cache.append(loss)\n",
    "\n",
    "plt.grid()\n",
    "plt.title('Loss', size=18)\n",
    "plt.xlabel('Number of iterations', size=15)\n",
    "plt.ylabel('Loss', size=15)\n",
    "plt.plot(l_cache)\n",
    "# plt.close()\n",
    "# plt.clf()\n",
    "# plt.cla()"
   ]
  },
  {
   "cell_type": "code",
   "execution_count": 103,
   "id": "850c996c",
   "metadata": {},
   "outputs": [
    {
     "name": "stderr",
     "output_type": "stream",
     "text": [
      "MovieWriter avconv unavailable; using Pillow instead.\n"
     ]
    },
    {
     "data": {
      "image/png": "[encoded data removed]",
      "text/plain": [
       "<Figure size 432x288 with 1 Axes>"
      ]
     },
     "metadata": {
      "needs_background": "light"
     },
     "output_type": "display_data"
    }
   ],
   "source": [
    "import matplotlib.animation as animation\n",
    "\n",
    "\n",
    "fig = plt.figure()\n",
    "\n",
    "ax = fig.add_subplot(111)\n",
    "ax.set_xlabel('$x_1$', size=20)\n",
    "ax.set_ylabel('$x_2$', size=20)\n",
    "ax.set_facecolor('xkcd:white')\n",
    "ax.scatter(x_line, y_line, c='orange')\n",
    "\n",
    "ax.set_title('Logistic regression ', size = 18)\n",
    "\n",
    "def animate(i):\n",
    "  xs = np.array([-2.0, 2.0])\n",
    "  ys = (-w_cache[i][0] * xs - b)/w_cache[i][1]\n",
    "  lines.set_data(xs, ys)\n",
    "\n",
    "  text_box.set_text('Iteration: {}'.format(i))\n",
    "\n",
    "  return lines, text_box\n",
    "\n",
    "lines, = ax.plot([], [], c='black')\n",
    "ax.scatter(data[:,0], data[:,1], s=50, c=colormap[y])\n",
    "text_box = ax.text(0.7, 0.95, 'Iteration 0', size = 16)\n",
    "\n",
    "anim = animation.FuncAnimation(fig, animate, len(w_cache), blit=True, interval=500)\n",
    "anim.save('animation.gif', writer='avconv', fps=22, codec=\"libx264\")"
   ]
  }
 ],
 "metadata": {
  "kernelspec": {
   "display_name": "Python 3 (ipykernel)",
   "language": "python",
   "name": "python3"
  },
  "language_info": {
   "codemirror_mode": {
    "name": "ipython",
    "version": 3
   },
   "file_extension": ".py",
   "mimetype": "text/x-python",
   "name": "python",
   "nbconvert_exporter": "python",
   "pygments_lexer": "ipython3",
   "version": "3.10.4"
  },
  "vscode": {
   "interpreter": {
    "hash": "369f2c481f4da34e4445cda3fffd2e751bd1c4d706f27375911949ba6bb62e1c"
   }
  }
 },
 "nbformat": 4,
 "nbformat_minor": 5
}
